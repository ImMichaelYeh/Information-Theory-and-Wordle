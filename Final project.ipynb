{
 "cells": [
  {
   "cell_type": "markdown",
   "metadata": {
    "collapsed": false
   },
   "source": [
    "## Math 157: Intro to Mathematical Software\n",
    "## UC San Diego, Winter 2022"
   ]
  },
  {
   "cell_type": "markdown",
   "metadata": {
    "collapsed": false
   },
   "source": [
    "### Final project: due Thursday, March 17 at 8PM Pacific"
   ]
  },
  {
   "cell_type": "markdown",
   "metadata": {
    "collapsed": false
   },
   "source": [
    "The final project is an open-ended assignment, in which you will be making a presentation to some of your fellow students on one of these topics:\n",
    "- Post-quantum cryptography\n",
    "- Graph theory and supply chain resilience\n",
    "- Automated solutions for algorithmic bias\n",
    "- Information theory and the game Wordle\n",
    "- The Sato-Tate conjecture in number theory\n",
    "- Differential equations and modeling of endemic diseases\n",
    "\n",
    "Detailed instructions are given below. Note that you are not being asked to edit *this* notebook in any way except to cite sources and collaborators; any other material added to this notebook will not be counted for credit."
   ]
  },
  {
   "cell_type": "markdown",
   "metadata": {
    "collapsed": false
   },
   "source": [
    "To complete the final project successfully, please follow these steps.\n",
    "- Check the stream \"Quiz/final project Q&A\" for the topic \"Final project topics and groups\".\n",
    "   - In most cases, you should be assigned the topic that you indicated on the Google Form as your first choice. A handful of students may be assigned their second choice instead.\n",
    "   - You have also been assigned randomly to a group of 2 or 3 in which all of you are presenting *different* topics (this being the reason why not too many people can choose the same topic).\n",
    "   - I am planning a future lecture about the topic assignment process, which uses pandas in an essential way.\n",
    "- Prepare two Jupyter notebooks called \"presentation1-xxx.ipynb\" and \"presentation2-xxx.ipynb\" where xxx is your UCSD email address (without the `@ucsd.edu` part).\n",
    "   - Your notebooks should be in the style of a lecture of this course. In particular, together they should take 45-50 minutes to present, spending at least 15 minutes on each notebook.\n",
    "   - One of your notebooks should use the Julia 1.6 or 1.7 kernel; the other should use the Python 3 or SageMath 9.4 kernel. (You are free to choose the order of these two.)\n",
    "   - Your notebooks may depend on packages not available in CoCalc. However, in this case you are responsible for setting up your notebook so that the TAs can reproduce your calculations at grading time (e.g., by including the appropriate install commands in one of the notebooks).\n",
    "   - Your intended audience is a typical student in this course. You may assume familiarity with all course material, but do not assume any prerequisites beyond those required for this course.\n",
    "   - You should be presenting material that has not already been presented in class.\n",
    "   - You should include an appropriate balance of expository text, examples of functional code, and references for further information.\n",
    "   - You do *not* need to include any participation checks; if you do, your final notebooks should *fill these in* with working sample code.\n",
    "   - As always, cite all sources and collaborators.\n",
    "- Meet with your assigned group and have each person make a presentation based on their notebook (excluding the exercises).\n",
    "   - Use Zulip private messages to contact your group members; I recommend doing this right away.\n",
    "   - Let me know as soon as possible if you are unable to contact one of the members of your group. If your group size drops below 2 because the other members drop the class, let me know and I will merge your group into another one.\n",
    "   - Your group can choose any mutually agreeable time(s) for the presentations as long as you get them done in time to submit the project.\n",
    "   - Your group may choose to meet in person or remotely, but you *must* accommodate any members of your group that wish to meet remotely.\n",
    "   - You are strongly encouraged to share your notebooks with the students in your group before your presentation, so that they can follow along as they would during a lecture. You can do this by transferring files through the shared project (each group has a designated workspace folder for this purpose); creating a new project with your group members as the collaborators; or downloading and uploading files out of CoCalc. (Reminder: you can attach files to Zulip messages.)\n",
    "   - It is permitted to revise your notebooks after making your presentation; in this case, please submit an extra file summarizing these changes.\n",
    "- Submit, in this folder, the following files.\n",
    "   - `presentation1-xxx.ipynb`, `presentation2-xxx.ipynb`: your presentation notebooks. Please specify the correct kernel in each notebook (and set it accordingly).\n",
    "   - `changes-xxx.txt` (optional): a description of any changes you made to your presentation based on feedback from your group.\n",
    "   - `feedback-xxx-yyy.txt`: for each other member of your group, your comments on their presentation. Here `yyy` is the other person's UCSD email address, again without `@ucsd.edu`. (So if your group consists of 3 people, you will submit 2 files of this type.)\n"
   ]
  },
  {
   "cell_type": "markdown",
   "metadata": {
    "collapsed": false
   },
   "source": [
    "Grading criteria:\n",
    " - Presentation (75%):\n",
    "   - Extent: Did you include enough material for 45-50 minutes? Is your material at a suitable depth (mathematically and computationally)?\n",
    "   - Topic coverage:\n",
    "        - Did you present some relevant mathematics?\n",
    "        - Did you make a genuine link between this mathematics and the \"applied\" part of your topic?\n",
    "   - Correctness: Do your examples work?\n",
    "   - Exposition: Does your text actually explain what is going on?\n",
    "   - Balance: Did you spend at least 15 minutes in each kernel? Did you include substantive material and functional code in both notebooks?\n",
    " - Feedback (25%):\n",
    "   - Thoroughness: Did you provide comments on all of your assigned presentations?\n",
    "   - Thoughtfulness: Were you paying attention? Are your comments germane and constructive?"
   ]
  },
  {
   "cell_type": "markdown",
   "metadata": {
    "collapsed": false
   },
   "source": [
    "## Collaborators and outside resources"
   ]
  },
  {
   "cell_type": "markdown",
   "metadata": {
    "collapsed": false
   },
   "source": [
    "Please list in the following answer box:\n",
    "- all students you worked with on this project;\n",
    "- all outside resources you consulted, other than ones that appeared in any course materials (including discussion sections and office hours). Be as specific as possible: i.e., don't cite Wikipedia, but rather link to a specific article.\n",
    "\n",
    "As usual, collaboration is *strongly encouraged*, but *you must write your notebooks in your own words*. Also, except for short bits of text (like URLs that you are citing), do not copy/paste except from other files in this folder."
   ]
  },
  {
   "cell_type": "markdown",
   "metadata": {
    "collapsed": false
   },
   "source": [
    "**Answer box:**\\\n",
    "Sources:\\\n",
    "https://www.youtube.com/watch?v=v68zYyaEmEA\\\n",
    "https://aditya-sengupta.github.io/coding/2022/01/13/wordle.html"
   ]
  }
 ],
 "metadata": {
  "kernelspec": {
   "display_name": "Python 3 (system-wide)",
   "language": "python",
   "metadata": {
    "cocalc": {
     "description": "Python 3 programming language",
     "priority": 100,
     "url": "https://www.python.org/"
    }
   },
   "name": "python3",
   "resource_dir": "/ext/jupyter/kernels/python3"
  },
  "language_info": {
   "codemirror_mode": {
    "name": "ipython",
    "version": 3
   },
   "file_extension": ".py",
   "mimetype": "text/x-python",
   "name": "python",
   "nbconvert_exporter": "python",
   "pygments_lexer": "ipython3",
   "version": "3.8.10"
  }
 },
 "nbformat": 4,
 "nbformat_minor": 4
}
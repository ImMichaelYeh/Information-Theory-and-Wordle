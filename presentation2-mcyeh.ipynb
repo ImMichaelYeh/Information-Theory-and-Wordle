{
 "cells": [
  {
   "cell_type": "markdown",
   "metadata": {
    "collapsed": false
   },
   "source": [
    "# Information Theory and the Game Wordle (Part 2 of 2)"
   ]
  },
  {
   "cell_type": "markdown",
   "metadata": {
    "collapsed": false
   },
   "source": [
    "## Goal of this lecture (Part 1 of 2):"
   ]
  },
  {
   "cell_type": "markdown",
   "metadata": {
    "collapsed": false
   },
   "source": [
    "Now that we know how the game Wordle works, and a basic understanding of Information Theory, we will apply these ideas to find the optimal first guess for Wordle!"
   ]
  },
  {
   "cell_type": "markdown",
   "metadata": {
    "collapsed": false
   },
   "source": [
    "## Setting up our infrastructure"
   ]
  },
  {
   "cell_type": "markdown",
   "metadata": {
    "collapsed": false
   },
   "source": [
    "I've uploaded a file called Wordle.py that includes all of the possible guesses that Wordle will accept. These list of words are identical to the words that we saw in Part 1.\n",
    "\n",
    "Now, we are going to need to write some code to help make this process easier. Something that we'll need is a way to represent the results given to us for each guess. Since each box can be gray, yellow, or green, there is a total of $3^5 = 243$ different results that each word can give us."
   ]
  },
  {
   "cell_type": "code",
   "execution_count": 8,
   "metadata": {
    "collapsed": false
   },
   "outputs": [
    {
     "name": "stdout",
     "output_type": "stream",
     "text": [
      "Num outcomes: 243\n",
      "Num possibleInputs: 12972\n"
     ]
    }
   ],
   "source": [
    "import enum\n",
    "import itertools\n",
    "import Wordle\n",
    "import math\n",
    "\n",
    "# The Results class a special type of class called an Enum. \n",
    "# I am using this just to make later code easier to read! \n",
    "# Basically, it is just assignig the labels for gray, yellow, and green to a unique numerical value.\n",
    "class Results(enum.Enum):\n",
    "    gray = 0\n",
    "    yellow = 1\n",
    "    green = 2\n",
    "\n",
    "# words and answers are disjoint, so combining them gives us all possible inputs\n",
    "possibleInputs = Wordle.words + Wordle.answers\n",
    "\n",
    "# outcome is a tuple off all tuples of length 5 where the values are Results.gray, Results.yellow, or Results.green\n",
    "# it basically just hold every possible outcome\n",
    "outcomes = tuple(itertools.product(Results, repeat=5)) \n",
    "\n",
    "print(\"Num outcomes: \" + str(len(outcomes))) # This tells us that we have all 243 possible outcomes\n",
    "print(\"Num possibleInputs: \" + str(len(possibleInputs)))"
   ]
  },
  {
   "cell_type": "markdown",
   "metadata": {
    "collapsed": false
   },
   "source": [
    "## Comparing words!\n",
    "Now we want a function that tells us the outcome of the guess compared to the answer."
   ]
  },
  {
   "cell_type": "code",
   "execution_count": 9,
   "metadata": {
    "collapsed": false
   },
   "outputs": [
    {
     "name": "stdout",
     "output_type": "stream",
     "text": [
      "(<Results.green: 2>, <Results.gray: 0>, <Results.gray: 0>, <Results.yellow: 1>, <Results.yellow: 1>)\n"
     ]
    }
   ],
   "source": [
    "def getOutcome(guess, answer):\n",
    "    outcome = [Results.gray, Results.gray, Results.gray, Results.gray, Results.gray]\n",
    "    \n",
    "    for i in range(0, 5):\n",
    "        # If the letter at the same index is identical, then we set the result at that index to be green\n",
    "        if guess[i] == answer[i]:\n",
    "            outcome[i] = Results.green\n",
    "            \n",
    "        # Otherwise, if the letter is in the word, we will set the result to yellow    \n",
    "        elif guess[i] in answer:\n",
    "            outcome[i] = Results.yellow\n",
    "    \n",
    "    return tuple(outcome)\n",
    "\n",
    "print(getOutcome(\"dried\", \"dodge\"))"
   ]
  },
  {
   "cell_type": "markdown",
   "metadata": {
    "collapsed": false
   },
   "source": [
    "Here, we are comparing the words \"crate\" and \"grain\". Since the first letter is correct, the first position of the tuple is Results.green. Since the next 2 are wrong, the next 2 tuple entries are results.gray. Then since the last 2 letters exist in the word, but aren't in the right spots, we get Results.yellow.\n",
    "\n",
    "Next, we'll also create a function that returns the number of times each possible outcome occured so that we can calculate probability later."
   ]
  },
  {
   "cell_type": "code",
   "execution_count": 10,
   "metadata": {
    "collapsed": false
   },
   "outputs": [
   ],
   "source": [
    "def getOutcomeDict(guess, wordList):\n",
    "    # A diction that contains the number of each time an outcome appears\n",
    "    outcomeDict = {}\n",
    "    for outcome in outcomes:\n",
    "        outcomeDict[outcome] = 0\n",
    "        \n",
    "    for answer in wordList:\n",
    "        outcomeDict[getOutcome(guess, answer)] += 1\n",
    "        \n",
    "    return outcomeDict"
   ]
  },
  {
   "cell_type": "markdown",
   "metadata": {
    "collapsed": false
   },
   "source": [
    "## Implementing Entropy!\n",
    "Now, we want to create a function that returns the entropy/expected information that we would get for each word and a list of words. To do so, we will define a function that takes in a word. With that word, we will compare it to every other word and see what the outcome is. Then we can calculate the probabilities with these numbers.\n",
    "\n",
    "Notice that, instead of just always using every Wordle word, I allow you to pass in a word list so that you can remove words from the list and get a different answer. This will allow use to find the changes in entropy for after subsequent guesses."
   ]
  },
  {
   "cell_type": "code",
   "execution_count": 11,
   "metadata": {
    "collapsed": false
   },
   "outputs": [
    {
     "name": "stdout",
     "output_type": "stream",
     "text": [
      "4.490289479097055\n"
     ]
    }
   ],
   "source": [
    "def entropy(guess, wordList):\n",
    "    # A dictionary that contains the number of each time an outcome appears\n",
    "    outcomeDict = getOutcomeDict(guess, wordList)\n",
    "    totalOutcomes = len(wordList)\n",
    "    \n",
    "    expected = 0\n",
    "    for outcome in outcomes:\n",
    "        p = outcomeDict[outcome]/totalOutcomes #calculating probability\n",
    "        if p != 0:\n",
    "            expected += p * math.log(1/p, 2) #Entropy equation\n",
    "            \n",
    "    return expected\n",
    "\n",
    "print(entropy(\"caulk\", possibleInputs))"
   ]
  },
  {
   "cell_type": "markdown",
   "metadata": {
    "collapsed": false
   },
   "source": [
    "Based on what value our entropy function gives us for a word, we can expect that word to divide our possible guesses in half that many number of times! Remember, an entropy value of 4 means that we cut our possibilities in half 4 times!\n",
    "\n",
    "Now that we have a function that returns the entropy of each word. We can find the word with the highest entropy value by iterating through every single word and getting their entropy!"
   ]
  },
  {
   "cell_type": "code",
   "execution_count": 12,
   "metadata": {
    "collapsed": false
   },
   "outputs": [
   ],
   "source": [
    "def getHighestEntropyIndex(wordList):\n",
    "    highestEntropyIndex = 0\n",
    "    highestEntropy = 0\n",
    "    for i in range(len(wordList)):\n",
    "        curEntropy = entropy(wordList[i], wordList)\n",
    "        if curEntropy > highestEntropy:\n",
    "            highestEntropy = curEntropy\n",
    "            highestEntropyIndex = i\n",
    "    return highestEntropyIndex\n",
    "        \n",
    "highestEntropyIndex = getHighestEntropyIndex(Wordle.answers)"
   ]
  },
  {
   "cell_type": "markdown",
   "metadata": {
    "collapsed": false
   },
   "source": [
    "The previous code has to go through a lot of entries. So it might take a while to finish. However, once it does, we can get some information from it!"
   ]
  },
  {
   "cell_type": "code",
   "execution_count": 13,
   "metadata": {
    "collapsed": false
   },
   "outputs": [
    {
     "name": "stdout",
     "output_type": "stream",
     "text": [
      "The word with the highest entropy is at index 1668\n",
      "The word with the highest entropy is raise\n",
      "The word's entropy is 5.9197368425161985\n"
     ]
    }
   ],
   "source": [
    "print(\"The word with the highest entropy is at index \" + str(highestEntropyIndex))\n",
    "print(\"The word with the highest entropy is \" + Wordle.answers[highestEntropyIndex])\n",
    "print(\"The word's entropy is \" + str(entropy(Wordle.answers[highestEntropyIndex], possibleInputs)))"
   ]
  },
  {
   "cell_type": "markdown",
   "metadata": {
    "collapsed": false
   },
   "source": [
    "The result of this code tells us that the word with the highest entropy is \"raise\" with an entropy value of almost 6. This means that, on average, guessing \"raise\" will cut down all the possible remaining guesses in half 6 times! So, that means that if we have 12,972 possible words at the beginning, there will only be about 202 possible guesses left!\n",
    "\n",
    "Now, if you have watched the video by 3Blue1Brown, you might have noticed that my word is different from his. That is because of a couple of reasons:\n",
    "1. He added code to consider other factors such as word frequency\n",
    "2. He actually looks deeper into the search to see if how he could optimize later guesses, not just the first guess\n",
    "3. He considered all possible guesses, I only considered all possible answers\n",
    "\n",
    "If you were paying close attention, you might have noticed that I used \"Wordle.answers\" this time instead of the usual \"possibleInputs\". That's because \"Wordle.answers\" is the subset of all words that could possibly be answers. This makes the code run faster and it actually gives you a more accurate answer! The whole list of words is too long for this code to run on CoCalc.\n",
    "\n",
    "So, now that we can find the word with the highest entropy, we need a function that will return us back the list of remaining words!"
   ]
  },
  {
   "cell_type": "code",
   "execution_count": 15,
   "metadata": {
    "collapsed": false
   },
   "outputs": [
    {
     "name": "stdout",
     "output_type": "stream",
     "text": [
      "['raile', 'raine', 'raise']\n"
     ]
    }
   ],
   "source": [
    "def getRemainingWordsListWithOutcome(guess, wordList, outcome):\n",
    "    newWordList = []\n",
    "    for word in wordList:\n",
    "        add = True\n",
    "        for i in range(0, 5):\n",
    "            if outcome[i] == Results.green and word[i] != guess[i]:\n",
    "                add = False\n",
    "                continue\n",
    "            elif outcome[i] == Results.yellow and guess[i] not in word:\n",
    "                add = False\n",
    "                continue\n",
    "        if add:    \n",
    "            newWordList.append(word)\n",
    "    return newWordList\n",
    "\n",
    "print(getRemainingWordsListWithOutcome(\"raise\", possibleInputs, (Results.green, Results.green, Results.green, Results.gray, Results.green)))"
   ]
  },
  {
   "cell_type": "markdown",
   "metadata": {
    "collapsed": false
   },
   "source": [
    "Now that we can find the word with the highest Entropy and we can get the remaining words left after a guess, we can actually write a function that solves the game for us! I won't actually do that because it requires me to add user input in CoCalc, and I am not sure how to do that. But the code would work something like this:\n",
    "1. Get the first optimal word (Which we know is \"raise\")\n",
    "2. Input \"raise\" into Wordle and get outcome\n",
    "3. Get remaining words list with the outcome\n",
    "4. Then get the next optimal word from the remaining list\n",
    "5. Go back to step 2"
   ]
  },
  {
   "cell_type": "markdown",
   "metadata": {
    "collapsed": false
   },
   "source": [
    "# Conclusion\n",
    "With a little bit of math and coding, we have written a program that can find us the word with the highest entropy so that, on average, it reduces the amount of possible guesses as much as possible. However, I would like to point out that this program can be further improved to give even better guesses. First, we can also give higher weights to words that are used more frequently, and words that have more common letters. We can also make the algorith look deeper to see if different words give better results in later guesses.\n",
    "\n",
    "The program is also quite slow. The Youtuber 3Blue1Brown made a video where he showed that an optimization he tried created errors in the results. So I wanted to avoid those issues by making the code do all the work without trying to skip things. I'm sure that it would run much better on my local machine though. I'm not sure what limitations CoCalc has.\n",
    "\n",
    "However, in the end, it works! And it probably would work a lot better if it we running on my local machine than on CoCalc. But I definitely enjoyed making this and I am glad that it works. Now I am going to start all my games with the word \"raise\"."
   ]
  },
  {
   "cell_type": "code",
   "execution_count": 16,
   "metadata": {
    "collapsed": false
   },
   "outputs": [
    {
     "name": "stdout",
     "output_type": "stream",
     "text": [
      "Goodbye, world!\n"
     ]
    }
   ],
   "source": [
    "print(\"Goodbye, world!\")"
   ]
  }
 ],
 "metadata": {
  "kernelspec": {
   "display_name": "Python 3 (system-wide)",
   "language": "python",
   "metadata": {
    "cocalc": {
     "description": "Python 3 programming language",
     "priority": 100,
     "url": "https://www.python.org/"
    }
   },
   "name": "python3",
   "resource_dir": "/ext/jupyter/kernels/python3"
  },
  "language_info": {
   "codemirror_mode": {
    "name": "ipython",
    "version": 3
   },
   "file_extension": ".py",
   "mimetype": "text/x-python",
   "name": "python",
   "nbconvert_exporter": "python",
   "pygments_lexer": "ipython3",
   "version": "3.8.10"
  }
 },
 "nbformat": 4,
 "nbformat_minor": 4
}